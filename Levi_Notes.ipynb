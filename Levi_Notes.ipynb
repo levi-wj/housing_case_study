{
 "cells": [
  {
   "cell_type": "markdown",
   "metadata": {},
   "source": [
    "## Setup"
   ]
  },
  {
   "cell_type": "markdown",
   "metadata": {},
   "source": [
    "### Import libraries"
   ]
  },
  {
   "cell_type": "code",
   "execution_count": 56,
   "metadata": {},
   "outputs": [],
   "source": [
    "import numpy as np\n",
    "import pandas as pd\n",
    "import plotly.express as px\n",
    "import matplotlib\n",
    "\n",
    "from sklearn.metrics import mean_squared_error, r2_score, accuracy_score, confusion_matrix, recall_score, precision_score\n",
    "from sklearn.model_selection import train_test_split\n",
    "\n",
    "from pyzipcode import ZipCodeDatabase\n",
    "\n",
    "from xgboost import XGBRegressor, plot_tree\n"
   ]
  },
  {
   "cell_type": "markdown",
   "metadata": {},
   "source": [
    "### Import data"
   ]
  },
  {
   "cell_type": "code",
   "execution_count": 57,
   "metadata": {},
   "outputs": [],
   "source": [
    "df = pd.read_csv('https://raw.githubusercontent.com/byui-cse/cse450-course/master/data/housing.csv')"
   ]
  },
  {
   "cell_type": "markdown",
   "metadata": {},
   "source": [
    "## Exploration"
   ]
  },
  {
   "cell_type": "code",
   "execution_count": 58,
   "metadata": {},
   "outputs": [
    {
     "data": {
      "text/plain": [
       "(20000, 21)"
      ]
     },
     "execution_count": 58,
     "metadata": {},
     "output_type": "execute_result"
    }
   ],
   "source": [
    "df.shape"
   ]
  },
  {
   "cell_type": "code",
   "execution_count": 59,
   "metadata": {},
   "outputs": [
    {
     "data": {
      "text/html": [
       "<div>\n",
       "<style scoped>\n",
       "    .dataframe tbody tr th:only-of-type {\n",
       "        vertical-align: middle;\n",
       "    }\n",
       "\n",
       "    .dataframe tbody tr th {\n",
       "        vertical-align: top;\n",
       "    }\n",
       "\n",
       "    .dataframe thead th {\n",
       "        text-align: right;\n",
       "    }\n",
       "</style>\n",
       "<table border=\"1\" class=\"dataframe\">\n",
       "  <thead>\n",
       "    <tr style=\"text-align: right;\">\n",
       "      <th></th>\n",
       "      <th>id</th>\n",
       "      <th>bedrooms</th>\n",
       "      <th>bathrooms</th>\n",
       "      <th>sqft_living</th>\n",
       "      <th>sqft_lot</th>\n",
       "      <th>floors</th>\n",
       "      <th>waterfront</th>\n",
       "      <th>view</th>\n",
       "      <th>condition</th>\n",
       "      <th>grade</th>\n",
       "      <th>sqft_above</th>\n",
       "      <th>sqft_basement</th>\n",
       "      <th>yr_built</th>\n",
       "      <th>yr_renovated</th>\n",
       "      <th>zipcode</th>\n",
       "      <th>lat</th>\n",
       "      <th>long</th>\n",
       "      <th>sqft_living15</th>\n",
       "      <th>sqft_lot15</th>\n",
       "      <th>price</th>\n",
       "    </tr>\n",
       "  </thead>\n",
       "  <tbody>\n",
       "    <tr>\n",
       "      <th>count</th>\n",
       "      <td>20000.00</td>\n",
       "      <td>20000.00</td>\n",
       "      <td>20000.00</td>\n",
       "      <td>20000.00</td>\n",
       "      <td>20000.00</td>\n",
       "      <td>20000.00</td>\n",
       "      <td>20000.00</td>\n",
       "      <td>20000.00</td>\n",
       "      <td>20000.00</td>\n",
       "      <td>20000.00</td>\n",
       "      <td>20000.00</td>\n",
       "      <td>20000.00</td>\n",
       "      <td>20000.00</td>\n",
       "      <td>20000.00</td>\n",
       "      <td>20000.00</td>\n",
       "      <td>20000.00</td>\n",
       "      <td>20000.00</td>\n",
       "      <td>20000.00</td>\n",
       "      <td>20000.00</td>\n",
       "      <td>20000.00</td>\n",
       "    </tr>\n",
       "    <tr>\n",
       "      <th>mean</th>\n",
       "      <td>4580297056.71</td>\n",
       "      <td>3.37</td>\n",
       "      <td>2.12</td>\n",
       "      <td>2079.88</td>\n",
       "      <td>15015.33</td>\n",
       "      <td>1.50</td>\n",
       "      <td>0.01</td>\n",
       "      <td>0.23</td>\n",
       "      <td>3.41</td>\n",
       "      <td>7.66</td>\n",
       "      <td>1790.23</td>\n",
       "      <td>289.65</td>\n",
       "      <td>1971.10</td>\n",
       "      <td>82.73</td>\n",
       "      <td>98077.88</td>\n",
       "      <td>47.56</td>\n",
       "      <td>-122.21</td>\n",
       "      <td>1986.39</td>\n",
       "      <td>12748.96</td>\n",
       "      <td>539436.71</td>\n",
       "    </tr>\n",
       "    <tr>\n",
       "      <th>std</th>\n",
       "      <td>2875294849.89</td>\n",
       "      <td>0.93</td>\n",
       "      <td>0.77</td>\n",
       "      <td>919.43</td>\n",
       "      <td>39701.35</td>\n",
       "      <td>0.54</td>\n",
       "      <td>0.09</td>\n",
       "      <td>0.77</td>\n",
       "      <td>0.65</td>\n",
       "      <td>1.18</td>\n",
       "      <td>829.59</td>\n",
       "      <td>441.54</td>\n",
       "      <td>29.37</td>\n",
       "      <td>397.87</td>\n",
       "      <td>53.44</td>\n",
       "      <td>0.14</td>\n",
       "      <td>0.14</td>\n",
       "      <td>685.21</td>\n",
       "      <td>27076.49</td>\n",
       "      <td>366433.44</td>\n",
       "    </tr>\n",
       "    <tr>\n",
       "      <th>min</th>\n",
       "      <td>1000102.00</td>\n",
       "      <td>0.00</td>\n",
       "      <td>0.00</td>\n",
       "      <td>290.00</td>\n",
       "      <td>520.00</td>\n",
       "      <td>1.00</td>\n",
       "      <td>0.00</td>\n",
       "      <td>0.00</td>\n",
       "      <td>1.00</td>\n",
       "      <td>1.00</td>\n",
       "      <td>290.00</td>\n",
       "      <td>0.00</td>\n",
       "      <td>1900.00</td>\n",
       "      <td>0.00</td>\n",
       "      <td>98001.00</td>\n",
       "      <td>47.16</td>\n",
       "      <td>-122.52</td>\n",
       "      <td>399.00</td>\n",
       "      <td>651.00</td>\n",
       "      <td>75000.00</td>\n",
       "    </tr>\n",
       "    <tr>\n",
       "      <th>25%</th>\n",
       "      <td>2123049478.50</td>\n",
       "      <td>3.00</td>\n",
       "      <td>1.75</td>\n",
       "      <td>1430.00</td>\n",
       "      <td>5040.00</td>\n",
       "      <td>1.00</td>\n",
       "      <td>0.00</td>\n",
       "      <td>0.00</td>\n",
       "      <td>3.00</td>\n",
       "      <td>7.00</td>\n",
       "      <td>1200.00</td>\n",
       "      <td>0.00</td>\n",
       "      <td>1951.75</td>\n",
       "      <td>0.00</td>\n",
       "      <td>98033.00</td>\n",
       "      <td>47.47</td>\n",
       "      <td>-122.33</td>\n",
       "      <td>1490.00</td>\n",
       "      <td>5100.00</td>\n",
       "      <td>322000.00</td>\n",
       "    </tr>\n",
       "    <tr>\n",
       "      <th>50%</th>\n",
       "      <td>3904955440.00</td>\n",
       "      <td>3.00</td>\n",
       "      <td>2.25</td>\n",
       "      <td>1910.00</td>\n",
       "      <td>7620.00</td>\n",
       "      <td>1.50</td>\n",
       "      <td>0.00</td>\n",
       "      <td>0.00</td>\n",
       "      <td>3.00</td>\n",
       "      <td>7.00</td>\n",
       "      <td>1560.00</td>\n",
       "      <td>0.00</td>\n",
       "      <td>1975.00</td>\n",
       "      <td>0.00</td>\n",
       "      <td>98065.00</td>\n",
       "      <td>47.57</td>\n",
       "      <td>-122.23</td>\n",
       "      <td>1840.00</td>\n",
       "      <td>7622.00</td>\n",
       "      <td>450000.00</td>\n",
       "    </tr>\n",
       "    <tr>\n",
       "      <th>75%</th>\n",
       "      <td>7309825262.50</td>\n",
       "      <td>4.00</td>\n",
       "      <td>2.50</td>\n",
       "      <td>2550.00</td>\n",
       "      <td>10710.00</td>\n",
       "      <td>2.00</td>\n",
       "      <td>0.00</td>\n",
       "      <td>0.00</td>\n",
       "      <td>4.00</td>\n",
       "      <td>8.00</td>\n",
       "      <td>2210.00</td>\n",
       "      <td>560.00</td>\n",
       "      <td>1997.00</td>\n",
       "      <td>0.00</td>\n",
       "      <td>98117.00</td>\n",
       "      <td>47.68</td>\n",
       "      <td>-122.12</td>\n",
       "      <td>2360.00</td>\n",
       "      <td>10088.25</td>\n",
       "      <td>641625.00</td>\n",
       "    </tr>\n",
       "    <tr>\n",
       "      <th>max</th>\n",
       "      <td>9900000190.00</td>\n",
       "      <td>33.00</td>\n",
       "      <td>8.00</td>\n",
       "      <td>13540.00</td>\n",
       "      <td>1164794.00</td>\n",
       "      <td>3.50</td>\n",
       "      <td>1.00</td>\n",
       "      <td>4.00</td>\n",
       "      <td>5.00</td>\n",
       "      <td>13.00</td>\n",
       "      <td>9410.00</td>\n",
       "      <td>4820.00</td>\n",
       "      <td>2015.00</td>\n",
       "      <td>2015.00</td>\n",
       "      <td>98199.00</td>\n",
       "      <td>47.78</td>\n",
       "      <td>-121.31</td>\n",
       "      <td>6210.00</td>\n",
       "      <td>871200.00</td>\n",
       "      <td>7700000.00</td>\n",
       "    </tr>\n",
       "  </tbody>\n",
       "</table>\n",
       "</div>"
      ],
      "text/plain": [
       "                 id  bedrooms  bathrooms  sqft_living   sqft_lot   floors  \\\n",
       "count      20000.00  20000.00   20000.00     20000.00   20000.00 20000.00   \n",
       "mean  4580297056.71      3.37       2.12      2079.88   15015.33     1.50   \n",
       "std   2875294849.89      0.93       0.77       919.43   39701.35     0.54   \n",
       "min      1000102.00      0.00       0.00       290.00     520.00     1.00   \n",
       "25%   2123049478.50      3.00       1.75      1430.00    5040.00     1.00   \n",
       "50%   3904955440.00      3.00       2.25      1910.00    7620.00     1.50   \n",
       "75%   7309825262.50      4.00       2.50      2550.00   10710.00     2.00   \n",
       "max   9900000190.00     33.00       8.00     13540.00 1164794.00     3.50   \n",
       "\n",
       "       waterfront     view  condition    grade  sqft_above  sqft_basement  \\\n",
       "count    20000.00 20000.00   20000.00 20000.00    20000.00       20000.00   \n",
       "mean         0.01     0.23       3.41     7.66     1790.23         289.65   \n",
       "std          0.09     0.77       0.65     1.18      829.59         441.54   \n",
       "min          0.00     0.00       1.00     1.00      290.00           0.00   \n",
       "25%          0.00     0.00       3.00     7.00     1200.00           0.00   \n",
       "50%          0.00     0.00       3.00     7.00     1560.00           0.00   \n",
       "75%          0.00     0.00       4.00     8.00     2210.00         560.00   \n",
       "max          1.00     4.00       5.00    13.00     9410.00        4820.00   \n",
       "\n",
       "       yr_built  yr_renovated  zipcode      lat     long  sqft_living15  \\\n",
       "count  20000.00      20000.00 20000.00 20000.00 20000.00       20000.00   \n",
       "mean    1971.10         82.73 98077.88    47.56  -122.21        1986.39   \n",
       "std       29.37        397.87    53.44     0.14     0.14         685.21   \n",
       "min     1900.00          0.00 98001.00    47.16  -122.52         399.00   \n",
       "25%     1951.75          0.00 98033.00    47.47  -122.33        1490.00   \n",
       "50%     1975.00          0.00 98065.00    47.57  -122.23        1840.00   \n",
       "75%     1997.00          0.00 98117.00    47.68  -122.12        2360.00   \n",
       "max     2015.00       2015.00 98199.00    47.78  -121.31        6210.00   \n",
       "\n",
       "       sqft_lot15      price  \n",
       "count    20000.00   20000.00  \n",
       "mean     12748.96  539436.71  \n",
       "std      27076.49  366433.44  \n",
       "min        651.00   75000.00  \n",
       "25%       5100.00  322000.00  \n",
       "50%       7622.00  450000.00  \n",
       "75%      10088.25  641625.00  \n",
       "max     871200.00 7700000.00  "
      ]
     },
     "execution_count": 59,
     "metadata": {},
     "output_type": "execute_result"
    }
   ],
   "source": [
    "df.describe()"
   ]
  },
  {
   "cell_type": "code",
   "execution_count": 60,
   "metadata": {},
   "outputs": [
    {
     "data": {
      "text/plain": [
       "date\n",
       "20140623T000000    135\n",
       "20140626T000000    123\n",
       "20140625T000000    120\n",
       "20140708T000000    117\n",
       "20150427T000000    116\n",
       "                  ... \n",
       "20140727T000000      1\n",
       "20150527T000000      1\n",
       "20150524T000000      1\n",
       "20140830T000000      1\n",
       "20141115T000000      1\n",
       "Name: count, Length: 370, dtype: int64"
      ]
     },
     "execution_count": 60,
     "metadata": {},
     "output_type": "execute_result"
    }
   ],
   "source": [
    "df['date'].value_counts()"
   ]
  },
  {
   "cell_type": "code",
   "execution_count": 61,
   "metadata": {},
   "outputs": [
    {
     "data": {
      "application/vnd.plotly.v1+json": {
       "config": {
        "plotlyServerURL": "https://plot.ly"
       },
       "data": [
        {
         "alignmentgroup": "True",
         "hovertemplate": "Waterfront=%{x}<br>Average Price=%{y}<extra></extra>",
         "legendgroup": "",
         "marker": {
          "color": "#636efa",
          "pattern": {
           "shape": ""
          }
         },
         "name": "",
         "offsetgroup": "",
         "orientation": "v",
         "showlegend": false,
         "textposition": "auto",
         "type": "bar",
         "x": [
          0,
          1
         ],
         "xaxis": "x",
         "y": [
          450000,
          1379900
         ],
         "yaxis": "y"
        }
       ],
       "layout": {
        "barmode": "relative",
        "legend": {
         "tracegroupgap": 0
        },
        "template": {
         "data": {
          "bar": [
           {
            "error_x": {
             "color": "#2a3f5f"
            },
            "error_y": {
             "color": "#2a3f5f"
            },
            "marker": {
             "line": {
              "color": "#E5ECF6",
              "width": 0.5
             },
             "pattern": {
              "fillmode": "overlay",
              "size": 10,
              "solidity": 0.2
             }
            },
            "type": "bar"
           }
          ],
          "barpolar": [
           {
            "marker": {
             "line": {
              "color": "#E5ECF6",
              "width": 0.5
             },
             "pattern": {
              "fillmode": "overlay",
              "size": 10,
              "solidity": 0.2
             }
            },
            "type": "barpolar"
           }
          ],
          "carpet": [
           {
            "aaxis": {
             "endlinecolor": "#2a3f5f",
             "gridcolor": "white",
             "linecolor": "white",
             "minorgridcolor": "white",
             "startlinecolor": "#2a3f5f"
            },
            "baxis": {
             "endlinecolor": "#2a3f5f",
             "gridcolor": "white",
             "linecolor": "white",
             "minorgridcolor": "white",
             "startlinecolor": "#2a3f5f"
            },
            "type": "carpet"
           }
          ],
          "choropleth": [
           {
            "colorbar": {
             "outlinewidth": 0,
             "ticks": ""
            },
            "type": "choropleth"
           }
          ],
          "contour": [
           {
            "colorbar": {
             "outlinewidth": 0,
             "ticks": ""
            },
            "colorscale": [
             [
              0,
              "#0d0887"
             ],
             [
              0.1111111111111111,
              "#46039f"
             ],
             [
              0.2222222222222222,
              "#7201a8"
             ],
             [
              0.3333333333333333,
              "#9c179e"
             ],
             [
              0.4444444444444444,
              "#bd3786"
             ],
             [
              0.5555555555555556,
              "#d8576b"
             ],
             [
              0.6666666666666666,
              "#ed7953"
             ],
             [
              0.7777777777777778,
              "#fb9f3a"
             ],
             [
              0.8888888888888888,
              "#fdca26"
             ],
             [
              1,
              "#f0f921"
             ]
            ],
            "type": "contour"
           }
          ],
          "contourcarpet": [
           {
            "colorbar": {
             "outlinewidth": 0,
             "ticks": ""
            },
            "type": "contourcarpet"
           }
          ],
          "heatmap": [
           {
            "colorbar": {
             "outlinewidth": 0,
             "ticks": ""
            },
            "colorscale": [
             [
              0,
              "#0d0887"
             ],
             [
              0.1111111111111111,
              "#46039f"
             ],
             [
              0.2222222222222222,
              "#7201a8"
             ],
             [
              0.3333333333333333,
              "#9c179e"
             ],
             [
              0.4444444444444444,
              "#bd3786"
             ],
             [
              0.5555555555555556,
              "#d8576b"
             ],
             [
              0.6666666666666666,
              "#ed7953"
             ],
             [
              0.7777777777777778,
              "#fb9f3a"
             ],
             [
              0.8888888888888888,
              "#fdca26"
             ],
             [
              1,
              "#f0f921"
             ]
            ],
            "type": "heatmap"
           }
          ],
          "heatmapgl": [
           {
            "colorbar": {
             "outlinewidth": 0,
             "ticks": ""
            },
            "colorscale": [
             [
              0,
              "#0d0887"
             ],
             [
              0.1111111111111111,
              "#46039f"
             ],
             [
              0.2222222222222222,
              "#7201a8"
             ],
             [
              0.3333333333333333,
              "#9c179e"
             ],
             [
              0.4444444444444444,
              "#bd3786"
             ],
             [
              0.5555555555555556,
              "#d8576b"
             ],
             [
              0.6666666666666666,
              "#ed7953"
             ],
             [
              0.7777777777777778,
              "#fb9f3a"
             ],
             [
              0.8888888888888888,
              "#fdca26"
             ],
             [
              1,
              "#f0f921"
             ]
            ],
            "type": "heatmapgl"
           }
          ],
          "histogram": [
           {
            "marker": {
             "pattern": {
              "fillmode": "overlay",
              "size": 10,
              "solidity": 0.2
             }
            },
            "type": "histogram"
           }
          ],
          "histogram2d": [
           {
            "colorbar": {
             "outlinewidth": 0,
             "ticks": ""
            },
            "colorscale": [
             [
              0,
              "#0d0887"
             ],
             [
              0.1111111111111111,
              "#46039f"
             ],
             [
              0.2222222222222222,
              "#7201a8"
             ],
             [
              0.3333333333333333,
              "#9c179e"
             ],
             [
              0.4444444444444444,
              "#bd3786"
             ],
             [
              0.5555555555555556,
              "#d8576b"
             ],
             [
              0.6666666666666666,
              "#ed7953"
             ],
             [
              0.7777777777777778,
              "#fb9f3a"
             ],
             [
              0.8888888888888888,
              "#fdca26"
             ],
             [
              1,
              "#f0f921"
             ]
            ],
            "type": "histogram2d"
           }
          ],
          "histogram2dcontour": [
           {
            "colorbar": {
             "outlinewidth": 0,
             "ticks": ""
            },
            "colorscale": [
             [
              0,
              "#0d0887"
             ],
             [
              0.1111111111111111,
              "#46039f"
             ],
             [
              0.2222222222222222,
              "#7201a8"
             ],
             [
              0.3333333333333333,
              "#9c179e"
             ],
             [
              0.4444444444444444,
              "#bd3786"
             ],
             [
              0.5555555555555556,
              "#d8576b"
             ],
             [
              0.6666666666666666,
              "#ed7953"
             ],
             [
              0.7777777777777778,
              "#fb9f3a"
             ],
             [
              0.8888888888888888,
              "#fdca26"
             ],
             [
              1,
              "#f0f921"
             ]
            ],
            "type": "histogram2dcontour"
           }
          ],
          "mesh3d": [
           {
            "colorbar": {
             "outlinewidth": 0,
             "ticks": ""
            },
            "type": "mesh3d"
           }
          ],
          "parcoords": [
           {
            "line": {
             "colorbar": {
              "outlinewidth": 0,
              "ticks": ""
             }
            },
            "type": "parcoords"
           }
          ],
          "pie": [
           {
            "automargin": true,
            "type": "pie"
           }
          ],
          "scatter": [
           {
            "fillpattern": {
             "fillmode": "overlay",
             "size": 10,
             "solidity": 0.2
            },
            "type": "scatter"
           }
          ],
          "scatter3d": [
           {
            "line": {
             "colorbar": {
              "outlinewidth": 0,
              "ticks": ""
             }
            },
            "marker": {
             "colorbar": {
              "outlinewidth": 0,
              "ticks": ""
             }
            },
            "type": "scatter3d"
           }
          ],
          "scattercarpet": [
           {
            "marker": {
             "colorbar": {
              "outlinewidth": 0,
              "ticks": ""
             }
            },
            "type": "scattercarpet"
           }
          ],
          "scattergeo": [
           {
            "marker": {
             "colorbar": {
              "outlinewidth": 0,
              "ticks": ""
             }
            },
            "type": "scattergeo"
           }
          ],
          "scattergl": [
           {
            "marker": {
             "colorbar": {
              "outlinewidth": 0,
              "ticks": ""
             }
            },
            "type": "scattergl"
           }
          ],
          "scattermapbox": [
           {
            "marker": {
             "colorbar": {
              "outlinewidth": 0,
              "ticks": ""
             }
            },
            "type": "scattermapbox"
           }
          ],
          "scatterpolar": [
           {
            "marker": {
             "colorbar": {
              "outlinewidth": 0,
              "ticks": ""
             }
            },
            "type": "scatterpolar"
           }
          ],
          "scatterpolargl": [
           {
            "marker": {
             "colorbar": {
              "outlinewidth": 0,
              "ticks": ""
             }
            },
            "type": "scatterpolargl"
           }
          ],
          "scatterternary": [
           {
            "marker": {
             "colorbar": {
              "outlinewidth": 0,
              "ticks": ""
             }
            },
            "type": "scatterternary"
           }
          ],
          "surface": [
           {
            "colorbar": {
             "outlinewidth": 0,
             "ticks": ""
            },
            "colorscale": [
             [
              0,
              "#0d0887"
             ],
             [
              0.1111111111111111,
              "#46039f"
             ],
             [
              0.2222222222222222,
              "#7201a8"
             ],
             [
              0.3333333333333333,
              "#9c179e"
             ],
             [
              0.4444444444444444,
              "#bd3786"
             ],
             [
              0.5555555555555556,
              "#d8576b"
             ],
             [
              0.6666666666666666,
              "#ed7953"
             ],
             [
              0.7777777777777778,
              "#fb9f3a"
             ],
             [
              0.8888888888888888,
              "#fdca26"
             ],
             [
              1,
              "#f0f921"
             ]
            ],
            "type": "surface"
           }
          ],
          "table": [
           {
            "cells": {
             "fill": {
              "color": "#EBF0F8"
             },
             "line": {
              "color": "white"
             }
            },
            "header": {
             "fill": {
              "color": "#C8D4E3"
             },
             "line": {
              "color": "white"
             }
            },
            "type": "table"
           }
          ]
         },
         "layout": {
          "annotationdefaults": {
           "arrowcolor": "#2a3f5f",
           "arrowhead": 0,
           "arrowwidth": 1
          },
          "autotypenumbers": "strict",
          "coloraxis": {
           "colorbar": {
            "outlinewidth": 0,
            "ticks": ""
           }
          },
          "colorscale": {
           "diverging": [
            [
             0,
             "#8e0152"
            ],
            [
             0.1,
             "#c51b7d"
            ],
            [
             0.2,
             "#de77ae"
            ],
            [
             0.3,
             "#f1b6da"
            ],
            [
             0.4,
             "#fde0ef"
            ],
            [
             0.5,
             "#f7f7f7"
            ],
            [
             0.6,
             "#e6f5d0"
            ],
            [
             0.7,
             "#b8e186"
            ],
            [
             0.8,
             "#7fbc41"
            ],
            [
             0.9,
             "#4d9221"
            ],
            [
             1,
             "#276419"
            ]
           ],
           "sequential": [
            [
             0,
             "#0d0887"
            ],
            [
             0.1111111111111111,
             "#46039f"
            ],
            [
             0.2222222222222222,
             "#7201a8"
            ],
            [
             0.3333333333333333,
             "#9c179e"
            ],
            [
             0.4444444444444444,
             "#bd3786"
            ],
            [
             0.5555555555555556,
             "#d8576b"
            ],
            [
             0.6666666666666666,
             "#ed7953"
            ],
            [
             0.7777777777777778,
             "#fb9f3a"
            ],
            [
             0.8888888888888888,
             "#fdca26"
            ],
            [
             1,
             "#f0f921"
            ]
           ],
           "sequentialminus": [
            [
             0,
             "#0d0887"
            ],
            [
             0.1111111111111111,
             "#46039f"
            ],
            [
             0.2222222222222222,
             "#7201a8"
            ],
            [
             0.3333333333333333,
             "#9c179e"
            ],
            [
             0.4444444444444444,
             "#bd3786"
            ],
            [
             0.5555555555555556,
             "#d8576b"
            ],
            [
             0.6666666666666666,
             "#ed7953"
            ],
            [
             0.7777777777777778,
             "#fb9f3a"
            ],
            [
             0.8888888888888888,
             "#fdca26"
            ],
            [
             1,
             "#f0f921"
            ]
           ]
          },
          "colorway": [
           "#636efa",
           "#EF553B",
           "#00cc96",
           "#ab63fa",
           "#FFA15A",
           "#19d3f3",
           "#FF6692",
           "#B6E880",
           "#FF97FF",
           "#FECB52"
          ],
          "font": {
           "color": "#2a3f5f"
          },
          "geo": {
           "bgcolor": "white",
           "lakecolor": "white",
           "landcolor": "#E5ECF6",
           "showlakes": true,
           "showland": true,
           "subunitcolor": "white"
          },
          "hoverlabel": {
           "align": "left"
          },
          "hovermode": "closest",
          "mapbox": {
           "style": "light"
          },
          "paper_bgcolor": "white",
          "plot_bgcolor": "#E5ECF6",
          "polar": {
           "angularaxis": {
            "gridcolor": "white",
            "linecolor": "white",
            "ticks": ""
           },
           "bgcolor": "#E5ECF6",
           "radialaxis": {
            "gridcolor": "white",
            "linecolor": "white",
            "ticks": ""
           }
          },
          "scene": {
           "xaxis": {
            "backgroundcolor": "#E5ECF6",
            "gridcolor": "white",
            "gridwidth": 2,
            "linecolor": "white",
            "showbackground": true,
            "ticks": "",
            "zerolinecolor": "white"
           },
           "yaxis": {
            "backgroundcolor": "#E5ECF6",
            "gridcolor": "white",
            "gridwidth": 2,
            "linecolor": "white",
            "showbackground": true,
            "ticks": "",
            "zerolinecolor": "white"
           },
           "zaxis": {
            "backgroundcolor": "#E5ECF6",
            "gridcolor": "white",
            "gridwidth": 2,
            "linecolor": "white",
            "showbackground": true,
            "ticks": "",
            "zerolinecolor": "white"
           }
          },
          "shapedefaults": {
           "line": {
            "color": "#2a3f5f"
           }
          },
          "ternary": {
           "aaxis": {
            "gridcolor": "white",
            "linecolor": "white",
            "ticks": ""
           },
           "baxis": {
            "gridcolor": "white",
            "linecolor": "white",
            "ticks": ""
           },
           "bgcolor": "#E5ECF6",
           "caxis": {
            "gridcolor": "white",
            "linecolor": "white",
            "ticks": ""
           }
          },
          "title": {
           "x": 0.05
          },
          "xaxis": {
           "automargin": true,
           "gridcolor": "white",
           "linecolor": "white",
           "ticks": "",
           "title": {
            "standoff": 15
           },
           "zerolinecolor": "white",
           "zerolinewidth": 2
          },
          "yaxis": {
           "automargin": true,
           "gridcolor": "white",
           "linecolor": "white",
           "ticks": "",
           "title": {
            "standoff": 15
           },
           "zerolinecolor": "white",
           "zerolinewidth": 2
          }
         }
        },
        "title": {
         "text": "Average House Price by Waterfront"
        },
        "xaxis": {
         "anchor": "y",
         "domain": [
          0,
          1
         ],
         "title": {
          "text": "Waterfront"
         }
        },
        "yaxis": {
         "anchor": "x",
         "domain": [
          0,
          1
         ],
         "title": {
          "text": "Average Price"
         }
        }
       }
      }
     },
     "metadata": {},
     "output_type": "display_data"
    }
   ],
   "source": [
    "# graph average house price with waterfront is 1 vs 0\n",
    "\n",
    "avg_price_by_waterfront = df.groupby('waterfront')['price'].median().reset_index()\n",
    "\n",
    "fig = px.bar(avg_price_by_waterfront, x='waterfront', y='price',\n",
    "             labels={'waterfront': 'Waterfront', 'price': 'Average Price'},\n",
    "             title='Average House Price by Waterfront')\n",
    "\n",
    "fig.show()\n"
   ]
  },
  {
   "cell_type": "markdown",
   "metadata": {},
   "source": [
    "#### Find the state that each house is in, by zip"
   ]
  },
  {
   "cell_type": "code",
   "execution_count": 62,
   "metadata": {},
   "outputs": [],
   "source": [
    "# zcdb = ZipCodeDatabase()\n",
    "\n",
    "# def get_state_from_zip(zip):\n",
    "#   try:\n",
    "#     return zcdb[zip].state\n",
    "#   except:\n",
    "#     return np.nan\n",
    "\n",
    "# df[\"state\"] = df[\"zipcode\"].map(get_state_from_zip)\n",
    "\n",
    "# df[\"state\"].value_counts()\n",
    "\n",
    "# They're all in Washington!"
   ]
  },
  {
   "cell_type": "markdown",
   "metadata": {},
   "source": [
    "## Data cleaning"
   ]
  },
  {
   "cell_type": "markdown",
   "metadata": {},
   "source": [
    "#### Formatting dates"
   ]
  },
  {
   "cell_type": "code",
   "execution_count": 63,
   "metadata": {},
   "outputs": [],
   "source": [
    "df[\"yr_sold\"] = df[\"date\"].str[0:4].to_numpy(np.int64)\n",
    "df[\"mnth_sold\"] = df[\"date\"].str[4:6].to_numpy(np.int64)\n",
    "\n",
    "df = df.drop(columns=['id', 'date'])\n",
    "\n",
    "# pd.to_datetime(df['date'])"
   ]
  },
  {
   "cell_type": "markdown",
   "metadata": {},
   "source": [
    "#### Categorize year renovated"
   ]
  },
  {
   "cell_type": "code",
   "execution_count": 64,
   "metadata": {},
   "outputs": [
    {
     "data": {
      "text/plain": [
       "was_renovated\n",
       "False    19171\n",
       "True       829\n",
       "Name: count, dtype: int64"
      ]
     },
     "execution_count": 64,
     "metadata": {},
     "output_type": "execute_result"
    }
   ],
   "source": [
    "# Create was_renoved column, true or false\n",
    "df['was_renovated'] = df['yr_renovated'] != 0\n",
    "df = df.drop(columns=['yr_renovated'])\n",
    "\n",
    "df['was_renovated'].value_counts()"
   ]
  },
  {
   "cell_type": "markdown",
   "metadata": {},
   "source": [
    "#### Remove price outliers"
   ]
  },
  {
   "cell_type": "code",
   "execution_count": 65,
   "metadata": {},
   "outputs": [],
   "source": [
    "df = df[df[\"price\"] < 4000000]"
   ]
  },
  {
   "cell_type": "markdown",
   "metadata": {},
   "source": [
    "## Create model"
   ]
  },
  {
   "cell_type": "code",
   "execution_count": 66,
   "metadata": {},
   "outputs": [
    {
     "data": {
      "text/html": [
       "<div>\n",
       "<style scoped>\n",
       "    .dataframe tbody tr th:only-of-type {\n",
       "        vertical-align: middle;\n",
       "    }\n",
       "\n",
       "    .dataframe tbody tr th {\n",
       "        vertical-align: top;\n",
       "    }\n",
       "\n",
       "    .dataframe thead th {\n",
       "        text-align: right;\n",
       "    }\n",
       "</style>\n",
       "<table border=\"1\" class=\"dataframe\">\n",
       "  <thead>\n",
       "    <tr style=\"text-align: right;\">\n",
       "      <th></th>\n",
       "      <th>bedrooms</th>\n",
       "      <th>bathrooms</th>\n",
       "      <th>sqft_living</th>\n",
       "      <th>sqft_lot</th>\n",
       "      <th>floors</th>\n",
       "      <th>waterfront</th>\n",
       "      <th>view</th>\n",
       "      <th>condition</th>\n",
       "      <th>grade</th>\n",
       "      <th>sqft_above</th>\n",
       "      <th>sqft_basement</th>\n",
       "      <th>yr_built</th>\n",
       "      <th>zipcode</th>\n",
       "      <th>lat</th>\n",
       "      <th>long</th>\n",
       "      <th>sqft_living15</th>\n",
       "      <th>sqft_lot15</th>\n",
       "      <th>yr_sold</th>\n",
       "      <th>mnth_sold</th>\n",
       "      <th>was_renovated</th>\n",
       "    </tr>\n",
       "  </thead>\n",
       "  <tbody>\n",
       "    <tr>\n",
       "      <th>0</th>\n",
       "      <td>4</td>\n",
       "      <td>3.25</td>\n",
       "      <td>3760</td>\n",
       "      <td>4675</td>\n",
       "      <td>2.00</td>\n",
       "      <td>0</td>\n",
       "      <td>0</td>\n",
       "      <td>3</td>\n",
       "      <td>8</td>\n",
       "      <td>2740</td>\n",
       "      <td>1020</td>\n",
       "      <td>2007</td>\n",
       "      <td>98038</td>\n",
       "      <td>47.39</td>\n",
       "      <td>-122.05</td>\n",
       "      <td>3280</td>\n",
       "      <td>4033</td>\n",
       "      <td>2014</td>\n",
       "      <td>11</td>\n",
       "      <td>False</td>\n",
       "    </tr>\n",
       "    <tr>\n",
       "      <th>1</th>\n",
       "      <td>3</td>\n",
       "      <td>1.75</td>\n",
       "      <td>1460</td>\n",
       "      <td>7800</td>\n",
       "      <td>1.00</td>\n",
       "      <td>0</td>\n",
       "      <td>0</td>\n",
       "      <td>2</td>\n",
       "      <td>7</td>\n",
       "      <td>1040</td>\n",
       "      <td>420</td>\n",
       "      <td>1979</td>\n",
       "      <td>98023</td>\n",
       "      <td>47.30</td>\n",
       "      <td>-122.38</td>\n",
       "      <td>1310</td>\n",
       "      <td>7865</td>\n",
       "      <td>2015</td>\n",
       "      <td>1</td>\n",
       "      <td>False</td>\n",
       "    </tr>\n",
       "    <tr>\n",
       "      <th>2</th>\n",
       "      <td>4</td>\n",
       "      <td>1.00</td>\n",
       "      <td>1340</td>\n",
       "      <td>5800</td>\n",
       "      <td>1.50</td>\n",
       "      <td>0</td>\n",
       "      <td>2</td>\n",
       "      <td>3</td>\n",
       "      <td>7</td>\n",
       "      <td>1340</td>\n",
       "      <td>0</td>\n",
       "      <td>1914</td>\n",
       "      <td>98116</td>\n",
       "      <td>47.57</td>\n",
       "      <td>-122.39</td>\n",
       "      <td>1900</td>\n",
       "      <td>5800</td>\n",
       "      <td>2014</td>\n",
       "      <td>10</td>\n",
       "      <td>False</td>\n",
       "    </tr>\n",
       "    <tr>\n",
       "      <th>3</th>\n",
       "      <td>3</td>\n",
       "      <td>1.75</td>\n",
       "      <td>1440</td>\n",
       "      <td>8050</td>\n",
       "      <td>1.00</td>\n",
       "      <td>0</td>\n",
       "      <td>0</td>\n",
       "      <td>3</td>\n",
       "      <td>8</td>\n",
       "      <td>1440</td>\n",
       "      <td>0</td>\n",
       "      <td>1985</td>\n",
       "      <td>98023</td>\n",
       "      <td>47.32</td>\n",
       "      <td>-122.39</td>\n",
       "      <td>1790</td>\n",
       "      <td>7488</td>\n",
       "      <td>2014</td>\n",
       "      <td>12</td>\n",
       "      <td>False</td>\n",
       "    </tr>\n",
       "    <tr>\n",
       "      <th>4</th>\n",
       "      <td>2</td>\n",
       "      <td>1.50</td>\n",
       "      <td>1780</td>\n",
       "      <td>4750</td>\n",
       "      <td>1.00</td>\n",
       "      <td>0</td>\n",
       "      <td>0</td>\n",
       "      <td>4</td>\n",
       "      <td>7</td>\n",
       "      <td>1080</td>\n",
       "      <td>700</td>\n",
       "      <td>1947</td>\n",
       "      <td>98117</td>\n",
       "      <td>47.69</td>\n",
       "      <td>-122.39</td>\n",
       "      <td>1690</td>\n",
       "      <td>5962</td>\n",
       "      <td>2014</td>\n",
       "      <td>8</td>\n",
       "      <td>False</td>\n",
       "    </tr>\n",
       "    <tr>\n",
       "      <th>...</th>\n",
       "      <td>...</td>\n",
       "      <td>...</td>\n",
       "      <td>...</td>\n",
       "      <td>...</td>\n",
       "      <td>...</td>\n",
       "      <td>...</td>\n",
       "      <td>...</td>\n",
       "      <td>...</td>\n",
       "      <td>...</td>\n",
       "      <td>...</td>\n",
       "      <td>...</td>\n",
       "      <td>...</td>\n",
       "      <td>...</td>\n",
       "      <td>...</td>\n",
       "      <td>...</td>\n",
       "      <td>...</td>\n",
       "      <td>...</td>\n",
       "      <td>...</td>\n",
       "      <td>...</td>\n",
       "      <td>...</td>\n",
       "    </tr>\n",
       "    <tr>\n",
       "      <th>19995</th>\n",
       "      <td>3</td>\n",
       "      <td>1.50</td>\n",
       "      <td>1000</td>\n",
       "      <td>6914</td>\n",
       "      <td>1.00</td>\n",
       "      <td>0</td>\n",
       "      <td>0</td>\n",
       "      <td>3</td>\n",
       "      <td>7</td>\n",
       "      <td>1000</td>\n",
       "      <td>0</td>\n",
       "      <td>1947</td>\n",
       "      <td>98125</td>\n",
       "      <td>47.71</td>\n",
       "      <td>-122.32</td>\n",
       "      <td>1000</td>\n",
       "      <td>6947</td>\n",
       "      <td>2014</td>\n",
       "      <td>11</td>\n",
       "      <td>False</td>\n",
       "    </tr>\n",
       "    <tr>\n",
       "      <th>19996</th>\n",
       "      <td>3</td>\n",
       "      <td>2.50</td>\n",
       "      <td>3087</td>\n",
       "      <td>5002</td>\n",
       "      <td>2.00</td>\n",
       "      <td>0</td>\n",
       "      <td>0</td>\n",
       "      <td>3</td>\n",
       "      <td>8</td>\n",
       "      <td>3087</td>\n",
       "      <td>0</td>\n",
       "      <td>2014</td>\n",
       "      <td>98023</td>\n",
       "      <td>47.30</td>\n",
       "      <td>-122.35</td>\n",
       "      <td>2927</td>\n",
       "      <td>5183</td>\n",
       "      <td>2014</td>\n",
       "      <td>11</td>\n",
       "      <td>False</td>\n",
       "    </tr>\n",
       "    <tr>\n",
       "      <th>19997</th>\n",
       "      <td>3</td>\n",
       "      <td>2.50</td>\n",
       "      <td>2120</td>\n",
       "      <td>4780</td>\n",
       "      <td>2.00</td>\n",
       "      <td>0</td>\n",
       "      <td>0</td>\n",
       "      <td>3</td>\n",
       "      <td>7</td>\n",
       "      <td>2120</td>\n",
       "      <td>0</td>\n",
       "      <td>2004</td>\n",
       "      <td>98053</td>\n",
       "      <td>47.68</td>\n",
       "      <td>-122.03</td>\n",
       "      <td>1690</td>\n",
       "      <td>2650</td>\n",
       "      <td>2014</td>\n",
       "      <td>9</td>\n",
       "      <td>False</td>\n",
       "    </tr>\n",
       "    <tr>\n",
       "      <th>19998</th>\n",
       "      <td>1</td>\n",
       "      <td>0.75</td>\n",
       "      <td>380</td>\n",
       "      <td>15000</td>\n",
       "      <td>1.00</td>\n",
       "      <td>0</td>\n",
       "      <td>0</td>\n",
       "      <td>3</td>\n",
       "      <td>5</td>\n",
       "      <td>380</td>\n",
       "      <td>0</td>\n",
       "      <td>1963</td>\n",
       "      <td>98168</td>\n",
       "      <td>47.48</td>\n",
       "      <td>-122.32</td>\n",
       "      <td>1170</td>\n",
       "      <td>15000</td>\n",
       "      <td>2014</td>\n",
       "      <td>6</td>\n",
       "      <td>False</td>\n",
       "    </tr>\n",
       "    <tr>\n",
       "      <th>19999</th>\n",
       "      <td>4</td>\n",
       "      <td>2.50</td>\n",
       "      <td>3130</td>\n",
       "      <td>5999</td>\n",
       "      <td>2.00</td>\n",
       "      <td>0</td>\n",
       "      <td>0</td>\n",
       "      <td>3</td>\n",
       "      <td>7</td>\n",
       "      <td>3130</td>\n",
       "      <td>0</td>\n",
       "      <td>2006</td>\n",
       "      <td>98042</td>\n",
       "      <td>47.38</td>\n",
       "      <td>-122.10</td>\n",
       "      <td>3020</td>\n",
       "      <td>5997</td>\n",
       "      <td>2015</td>\n",
       "      <td>3</td>\n",
       "      <td>False</td>\n",
       "    </tr>\n",
       "  </tbody>\n",
       "</table>\n",
       "<p>19988 rows × 20 columns</p>\n",
       "</div>"
      ],
      "text/plain": [
       "       bedrooms  bathrooms  sqft_living  sqft_lot  floors  waterfront  view  \\\n",
       "0             4       3.25         3760      4675    2.00           0     0   \n",
       "1             3       1.75         1460      7800    1.00           0     0   \n",
       "2             4       1.00         1340      5800    1.50           0     2   \n",
       "3             3       1.75         1440      8050    1.00           0     0   \n",
       "4             2       1.50         1780      4750    1.00           0     0   \n",
       "...         ...        ...          ...       ...     ...         ...   ...   \n",
       "19995         3       1.50         1000      6914    1.00           0     0   \n",
       "19996         3       2.50         3087      5002    2.00           0     0   \n",
       "19997         3       2.50         2120      4780    2.00           0     0   \n",
       "19998         1       0.75          380     15000    1.00           0     0   \n",
       "19999         4       2.50         3130      5999    2.00           0     0   \n",
       "\n",
       "       condition  grade  sqft_above  sqft_basement  yr_built  zipcode   lat  \\\n",
       "0              3      8        2740           1020      2007    98038 47.39   \n",
       "1              2      7        1040            420      1979    98023 47.30   \n",
       "2              3      7        1340              0      1914    98116 47.57   \n",
       "3              3      8        1440              0      1985    98023 47.32   \n",
       "4              4      7        1080            700      1947    98117 47.69   \n",
       "...          ...    ...         ...            ...       ...      ...   ...   \n",
       "19995          3      7        1000              0      1947    98125 47.71   \n",
       "19996          3      8        3087              0      2014    98023 47.30   \n",
       "19997          3      7        2120              0      2004    98053 47.68   \n",
       "19998          3      5         380              0      1963    98168 47.48   \n",
       "19999          3      7        3130              0      2006    98042 47.38   \n",
       "\n",
       "         long  sqft_living15  sqft_lot15  yr_sold  mnth_sold  was_renovated  \n",
       "0     -122.05           3280        4033     2014         11          False  \n",
       "1     -122.38           1310        7865     2015          1          False  \n",
       "2     -122.39           1900        5800     2014         10          False  \n",
       "3     -122.39           1790        7488     2014         12          False  \n",
       "4     -122.39           1690        5962     2014          8          False  \n",
       "...       ...            ...         ...      ...        ...            ...  \n",
       "19995 -122.32           1000        6947     2014         11          False  \n",
       "19996 -122.35           2927        5183     2014         11          False  \n",
       "19997 -122.03           1690        2650     2014          9          False  \n",
       "19998 -122.32           1170       15000     2014          6          False  \n",
       "19999 -122.10           3020        5997     2015          3          False  \n",
       "\n",
       "[19988 rows x 20 columns]"
      ]
     },
     "execution_count": 66,
     "metadata": {},
     "output_type": "execute_result"
    }
   ],
   "source": [
    "X = pd.get_dummies(df.drop([\"price\"], axis=1))\n",
    "y = df[\"price\"]\n",
    "\n",
    "model = XGBRegressor()\n",
    "\n",
    "X_train, X_test, y_train, y_test = train_test_split(X, y, test_size=.2, random_state=42)\n",
    "\n",
    "model.fit(X_train, y_train)\n",
    "\n",
    "y_pred = model.predict(X_test)\n",
    "\n",
    "X"
   ]
  },
  {
   "cell_type": "markdown",
   "metadata": {},
   "source": [
    "### Model stats"
   ]
  },
  {
   "cell_type": "code",
   "execution_count": 67,
   "metadata": {},
   "outputs": [
    {
     "data": {
      "text/plain": [
       "52073167665979.49"
      ]
     },
     "metadata": {},
     "output_type": "display_data"
    },
    {
     "data": {
      "text/plain": [
       "13024804318.6542"
      ]
     },
     "metadata": {},
     "output_type": "display_data"
    },
    {
     "data": {
      "text/plain": [
       "114126.26480637224"
      ]
     },
     "metadata": {},
     "output_type": "display_data"
    },
    {
     "data": {
      "text/plain": [
       "0.8906061555946535"
      ]
     },
     "metadata": {},
     "output_type": "display_data"
    }
   ],
   "source": [
    "sse = np.sum((y_test - y_pred) ** 2)\n",
    "mse = mean_squared_error(y_test, y_pred)\n",
    "rmse = np.sqrt(mse)\n",
    "r2 = r2_score(y_test, y_pred)\n",
    "\n",
    "display(sse)\n",
    "display(mse)\n",
    "display(rmse)\n",
    "display(r2)"
   ]
  },
  {
   "cell_type": "markdown",
   "metadata": {},
   "source": [
    "## Evaluate Mini dataset"
   ]
  },
  {
   "cell_type": "code",
   "execution_count": 68,
   "metadata": {},
   "outputs": [],
   "source": [
    "mini = pd.read_csv(\"https://raw.githubusercontent.com/byui-cse/cse450-course/master/data/housing_holdout_test_mini.csv\")"
   ]
  },
  {
   "cell_type": "markdown",
   "metadata": {},
   "source": [
    "### Do transformations"
   ]
  },
  {
   "cell_type": "code",
   "execution_count": 69,
   "metadata": {},
   "outputs": [
    {
     "data": {
      "text/html": [
       "<div>\n",
       "<style scoped>\n",
       "    .dataframe tbody tr th:only-of-type {\n",
       "        vertical-align: middle;\n",
       "    }\n",
       "\n",
       "    .dataframe tbody tr th {\n",
       "        vertical-align: top;\n",
       "    }\n",
       "\n",
       "    .dataframe thead th {\n",
       "        text-align: right;\n",
       "    }\n",
       "</style>\n",
       "<table border=\"1\" class=\"dataframe\">\n",
       "  <thead>\n",
       "    <tr style=\"text-align: right;\">\n",
       "      <th></th>\n",
       "      <th>bedrooms</th>\n",
       "      <th>bathrooms</th>\n",
       "      <th>sqft_living</th>\n",
       "      <th>sqft_lot</th>\n",
       "      <th>floors</th>\n",
       "      <th>waterfront</th>\n",
       "      <th>view</th>\n",
       "      <th>condition</th>\n",
       "      <th>grade</th>\n",
       "      <th>sqft_above</th>\n",
       "      <th>sqft_basement</th>\n",
       "      <th>yr_built</th>\n",
       "      <th>zipcode</th>\n",
       "      <th>lat</th>\n",
       "      <th>long</th>\n",
       "      <th>sqft_living15</th>\n",
       "      <th>sqft_lot15</th>\n",
       "      <th>yr_sold</th>\n",
       "      <th>mnth_sold</th>\n",
       "      <th>was_renovated</th>\n",
       "    </tr>\n",
       "  </thead>\n",
       "  <tbody>\n",
       "    <tr>\n",
       "      <th>0</th>\n",
       "      <td>4</td>\n",
       "      <td>1.75</td>\n",
       "      <td>2120</td>\n",
       "      <td>7680</td>\n",
       "      <td>1.00</td>\n",
       "      <td>0</td>\n",
       "      <td>0</td>\n",
       "      <td>4</td>\n",
       "      <td>7</td>\n",
       "      <td>1060</td>\n",
       "      <td>1060</td>\n",
       "      <td>1950</td>\n",
       "      <td>98177</td>\n",
       "      <td>47.72</td>\n",
       "      <td>-122.36</td>\n",
       "      <td>1530</td>\n",
       "      <td>7680</td>\n",
       "      <td>2014</td>\n",
       "      <td>11</td>\n",
       "      <td>False</td>\n",
       "    </tr>\n",
       "    <tr>\n",
       "      <th>1</th>\n",
       "      <td>4</td>\n",
       "      <td>2.25</td>\n",
       "      <td>2010</td>\n",
       "      <td>15375</td>\n",
       "      <td>1.00</td>\n",
       "      <td>0</td>\n",
       "      <td>0</td>\n",
       "      <td>4</td>\n",
       "      <td>8</td>\n",
       "      <td>2010</td>\n",
       "      <td>0</td>\n",
       "      <td>1957</td>\n",
       "      <td>98005</td>\n",
       "      <td>47.60</td>\n",
       "      <td>-122.17</td>\n",
       "      <td>1930</td>\n",
       "      <td>15375</td>\n",
       "      <td>2015</td>\n",
       "      <td>2</td>\n",
       "      <td>False</td>\n",
       "    </tr>\n",
       "    <tr>\n",
       "      <th>2</th>\n",
       "      <td>2</td>\n",
       "      <td>1.00</td>\n",
       "      <td>1070</td>\n",
       "      <td>4200</td>\n",
       "      <td>1.00</td>\n",
       "      <td>0</td>\n",
       "      <td>0</td>\n",
       "      <td>4</td>\n",
       "      <td>6</td>\n",
       "      <td>1070</td>\n",
       "      <td>0</td>\n",
       "      <td>1983</td>\n",
       "      <td>98002</td>\n",
       "      <td>47.33</td>\n",
       "      <td>-122.22</td>\n",
       "      <td>1150</td>\n",
       "      <td>4200</td>\n",
       "      <td>2015</td>\n",
       "      <td>1</td>\n",
       "      <td>False</td>\n",
       "    </tr>\n",
       "    <tr>\n",
       "      <th>3</th>\n",
       "      <td>4</td>\n",
       "      <td>2.50</td>\n",
       "      <td>1890</td>\n",
       "      <td>15770</td>\n",
       "      <td>2.00</td>\n",
       "      <td>0</td>\n",
       "      <td>0</td>\n",
       "      <td>4</td>\n",
       "      <td>7</td>\n",
       "      <td>1890</td>\n",
       "      <td>0</td>\n",
       "      <td>1968</td>\n",
       "      <td>98166</td>\n",
       "      <td>47.43</td>\n",
       "      <td>-122.34</td>\n",
       "      <td>2410</td>\n",
       "      <td>15256</td>\n",
       "      <td>2014</td>\n",
       "      <td>7</td>\n",
       "      <td>False</td>\n",
       "    </tr>\n",
       "    <tr>\n",
       "      <th>4</th>\n",
       "      <td>3</td>\n",
       "      <td>2.50</td>\n",
       "      <td>1600</td>\n",
       "      <td>2610</td>\n",
       "      <td>2.00</td>\n",
       "      <td>0</td>\n",
       "      <td>0</td>\n",
       "      <td>3</td>\n",
       "      <td>8</td>\n",
       "      <td>1600</td>\n",
       "      <td>0</td>\n",
       "      <td>2005</td>\n",
       "      <td>98027</td>\n",
       "      <td>47.53</td>\n",
       "      <td>-122.07</td>\n",
       "      <td>1445</td>\n",
       "      <td>1288</td>\n",
       "      <td>2014</td>\n",
       "      <td>8</td>\n",
       "      <td>False</td>\n",
       "    </tr>\n",
       "    <tr>\n",
       "      <th>...</th>\n",
       "      <td>...</td>\n",
       "      <td>...</td>\n",
       "      <td>...</td>\n",
       "      <td>...</td>\n",
       "      <td>...</td>\n",
       "      <td>...</td>\n",
       "      <td>...</td>\n",
       "      <td>...</td>\n",
       "      <td>...</td>\n",
       "      <td>...</td>\n",
       "      <td>...</td>\n",
       "      <td>...</td>\n",
       "      <td>...</td>\n",
       "      <td>...</td>\n",
       "      <td>...</td>\n",
       "      <td>...</td>\n",
       "      <td>...</td>\n",
       "      <td>...</td>\n",
       "      <td>...</td>\n",
       "      <td>...</td>\n",
       "    </tr>\n",
       "    <tr>\n",
       "      <th>76</th>\n",
       "      <td>4</td>\n",
       "      <td>2.75</td>\n",
       "      <td>2260</td>\n",
       "      <td>7209</td>\n",
       "      <td>1.00</td>\n",
       "      <td>0</td>\n",
       "      <td>3</td>\n",
       "      <td>3</td>\n",
       "      <td>7</td>\n",
       "      <td>1330</td>\n",
       "      <td>930</td>\n",
       "      <td>2002</td>\n",
       "      <td>98125</td>\n",
       "      <td>47.71</td>\n",
       "      <td>-122.30</td>\n",
       "      <td>1790</td>\n",
       "      <td>10860</td>\n",
       "      <td>2015</td>\n",
       "      <td>4</td>\n",
       "      <td>False</td>\n",
       "    </tr>\n",
       "    <tr>\n",
       "      <th>77</th>\n",
       "      <td>5</td>\n",
       "      <td>2.25</td>\n",
       "      <td>3480</td>\n",
       "      <td>9200</td>\n",
       "      <td>2.00</td>\n",
       "      <td>0</td>\n",
       "      <td>0</td>\n",
       "      <td>3</td>\n",
       "      <td>8</td>\n",
       "      <td>3480</td>\n",
       "      <td>0</td>\n",
       "      <td>1979</td>\n",
       "      <td>98006</td>\n",
       "      <td>47.56</td>\n",
       "      <td>-122.15</td>\n",
       "      <td>3130</td>\n",
       "      <td>9200</td>\n",
       "      <td>2014</td>\n",
       "      <td>7</td>\n",
       "      <td>False</td>\n",
       "    </tr>\n",
       "    <tr>\n",
       "      <th>78</th>\n",
       "      <td>5</td>\n",
       "      <td>2.75</td>\n",
       "      <td>2580</td>\n",
       "      <td>9242</td>\n",
       "      <td>2.00</td>\n",
       "      <td>0</td>\n",
       "      <td>2</td>\n",
       "      <td>4</td>\n",
       "      <td>8</td>\n",
       "      <td>1720</td>\n",
       "      <td>860</td>\n",
       "      <td>1967</td>\n",
       "      <td>98007</td>\n",
       "      <td>47.59</td>\n",
       "      <td>-122.13</td>\n",
       "      <td>2240</td>\n",
       "      <td>9316</td>\n",
       "      <td>2014</td>\n",
       "      <td>9</td>\n",
       "      <td>False</td>\n",
       "    </tr>\n",
       "    <tr>\n",
       "      <th>79</th>\n",
       "      <td>2</td>\n",
       "      <td>2.00</td>\n",
       "      <td>1590</td>\n",
       "      <td>8000</td>\n",
       "      <td>1.00</td>\n",
       "      <td>0</td>\n",
       "      <td>0</td>\n",
       "      <td>3</td>\n",
       "      <td>7</td>\n",
       "      <td>910</td>\n",
       "      <td>680</td>\n",
       "      <td>1984</td>\n",
       "      <td>98055</td>\n",
       "      <td>47.46</td>\n",
       "      <td>-122.20</td>\n",
       "      <td>1590</td>\n",
       "      <td>8364</td>\n",
       "      <td>2015</td>\n",
       "      <td>3</td>\n",
       "      <td>False</td>\n",
       "    </tr>\n",
       "    <tr>\n",
       "      <th>80</th>\n",
       "      <td>5</td>\n",
       "      <td>2.75</td>\n",
       "      <td>2730</td>\n",
       "      <td>22572</td>\n",
       "      <td>1.00</td>\n",
       "      <td>0</td>\n",
       "      <td>0</td>\n",
       "      <td>3</td>\n",
       "      <td>7</td>\n",
       "      <td>2080</td>\n",
       "      <td>650</td>\n",
       "      <td>1968</td>\n",
       "      <td>98075</td>\n",
       "      <td>47.60</td>\n",
       "      <td>-122.04</td>\n",
       "      <td>2260</td>\n",
       "      <td>15458</td>\n",
       "      <td>2014</td>\n",
       "      <td>6</td>\n",
       "      <td>True</td>\n",
       "    </tr>\n",
       "  </tbody>\n",
       "</table>\n",
       "<p>81 rows × 20 columns</p>\n",
       "</div>"
      ],
      "text/plain": [
       "    bedrooms  bathrooms  sqft_living  sqft_lot  floors  waterfront  view  \\\n",
       "0          4       1.75         2120      7680    1.00           0     0   \n",
       "1          4       2.25         2010     15375    1.00           0     0   \n",
       "2          2       1.00         1070      4200    1.00           0     0   \n",
       "3          4       2.50         1890     15770    2.00           0     0   \n",
       "4          3       2.50         1600      2610    2.00           0     0   \n",
       "..       ...        ...          ...       ...     ...         ...   ...   \n",
       "76         4       2.75         2260      7209    1.00           0     3   \n",
       "77         5       2.25         3480      9200    2.00           0     0   \n",
       "78         5       2.75         2580      9242    2.00           0     2   \n",
       "79         2       2.00         1590      8000    1.00           0     0   \n",
       "80         5       2.75         2730     22572    1.00           0     0   \n",
       "\n",
       "    condition  grade  sqft_above  sqft_basement  yr_built  zipcode   lat  \\\n",
       "0           4      7        1060           1060      1950    98177 47.72   \n",
       "1           4      8        2010              0      1957    98005 47.60   \n",
       "2           4      6        1070              0      1983    98002 47.33   \n",
       "3           4      7        1890              0      1968    98166 47.43   \n",
       "4           3      8        1600              0      2005    98027 47.53   \n",
       "..        ...    ...         ...            ...       ...      ...   ...   \n",
       "76          3      7        1330            930      2002    98125 47.71   \n",
       "77          3      8        3480              0      1979    98006 47.56   \n",
       "78          4      8        1720            860      1967    98007 47.59   \n",
       "79          3      7         910            680      1984    98055 47.46   \n",
       "80          3      7        2080            650      1968    98075 47.60   \n",
       "\n",
       "      long  sqft_living15  sqft_lot15  yr_sold  mnth_sold  was_renovated  \n",
       "0  -122.36           1530        7680     2014         11          False  \n",
       "1  -122.17           1930       15375     2015          2          False  \n",
       "2  -122.22           1150        4200     2015          1          False  \n",
       "3  -122.34           2410       15256     2014          7          False  \n",
       "4  -122.07           1445        1288     2014          8          False  \n",
       "..     ...            ...         ...      ...        ...            ...  \n",
       "76 -122.30           1790       10860     2015          4          False  \n",
       "77 -122.15           3130        9200     2014          7          False  \n",
       "78 -122.13           2240        9316     2014          9          False  \n",
       "79 -122.20           1590        8364     2015          3          False  \n",
       "80 -122.04           2260       15458     2014          6           True  \n",
       "\n",
       "[81 rows x 20 columns]"
      ]
     },
     "execution_count": 69,
     "metadata": {},
     "output_type": "execute_result"
    }
   ],
   "source": [
    "X = mini.drop(columns=['id'])\n",
    "X[\"yr_sold\"] = X[\"date\"].str[0:4].to_numpy(np.int64)\n",
    "X[\"mnth_sold\"] = X[\"date\"].str[4:6].to_numpy(np.int64)\n",
    "X = pd.get_dummies(X.drop([\"date\"], axis=1))\n",
    "\n",
    "X['was_renovated'] = X['yr_renovated'] != 0\n",
    "X = X.drop(columns=['yr_renovated'])\n",
    "\n",
    "X"
   ]
  },
  {
   "cell_type": "markdown",
   "metadata": {},
   "source": [
    "### Generate predictions and csv"
   ]
  },
  {
   "cell_type": "code",
   "execution_count": 70,
   "metadata": {},
   "outputs": [],
   "source": [
    "mini_pred = model.predict(X)\n",
    "mini_pred = pd.DataFrame(mini_pred, columns=['price'])\n",
    "mini_pred.to_csv(\"Levi-predictions.csv\", index=False)"
   ]
  },
  {
   "cell_type": "markdown",
   "metadata": {},
   "source": [
    "### Feature importances"
   ]
  },
  {
   "cell_type": "code",
   "execution_count": 71,
   "metadata": {},
   "outputs": [
    {
     "data": {
      "text/plain": [
       "<Axes: >"
      ]
     },
     "execution_count": 71,
     "metadata": {},
     "output_type": "execute_result"
    },
    {
     "data": {
      "image/png": "[encoded data removed]",
      "text/plain": [
       "<Figure size 2000x1000 with 1 Axes>"
      ]
     },
     "metadata": {},
     "output_type": "display_data"
    }
   ],
   "source": [
    "# compare weight vs gain here\n",
    "# weight = how many splits are based on that feature\n",
    "# gain = how much the accuracy is affected by the feature\n",
    "feature_important = model.get_booster().get_score(importance_type='gain')\n",
    "keys = list(feature_important.keys())\n",
    "values = list(feature_important.values())\n",
    "\n",
    "data = pd.DataFrame(data=values, index=keys, columns=[\"score\"]).sort_values(by = \"score\", ascending=False)\n",
    "data.nlargest(40, columns=\"score\").plot(kind='barh', figsize = (20,10)) ## plot top 40 features"
   ]
  },
  {
   "cell_type": "markdown",
   "metadata": {},
   "source": [
    "### Graph the decision tree"
   ]
  },
  {
   "cell_type": "code",
   "execution_count": 72,
   "metadata": {},
   "outputs": [],
   "source": [
    "# Commented out for performance\n",
    "\n",
    "# plot_tree(model, num_trees=2, rankdir='LR')\n",
    "# fig = matplotlib.pyplot.gcf()\n",
    "# fig.set_size_inches(150, 100)\n",
    "# fig.savefig('tree.png', bbox_inches='tight')"
   ]
  },
  {
   "cell_type": "markdown",
   "metadata": {},
   "source": [
    "### Find the zip codes with the lowest home prices"
   ]
  },
  {
   "cell_type": "code",
   "execution_count": 167,
   "metadata": {},
   "outputs": [
    {
     "name": "stdout",
     "output_type": "stream",
     "text": [
      "    zipcode      price\n",
      "1     98002  235085.47\n",
      "64    98168  241003.91\n",
      "20    98032  253325.25\n",
      "0     98001  282335.56\n",
      "61    98148  285211.02\n",
      "..      ...        ...\n",
      "47    98109  878483.08\n",
      "48    98112 1095133.22\n",
      "25    98040 1176956.41\n",
      "3     98004 1316314.16\n",
      "24    98039 1935103.02\n",
      "\n",
      "[70 rows x 2 columns]\n",
      "zipcode      int64\n",
      "price      float64\n",
      "dtype: object\n"
     ]
    }
   ],
   "source": [
    "df_lowest_zips = df.copy()\n",
    "df_lowest_zips = df.groupby('zipcode', as_index=False)['price'].mean()\n",
    "df_lowest_zips = df_lowest_zips.sort_values(by='price')\n",
    "# df_lowest_zips = df_lowest_zips.head(15)\n",
    "\n",
    "# Select the zip codes with the lowest home prices\n",
    "print(df_lowest_zips[['zipcode', 'price']])\n",
    "print(df_lowest_zips.dtypes)"
   ]
  },
  {
   "cell_type": "markdown",
   "metadata": {},
   "source": [
    "### Get income by zip using a census dataset"
   ]
  },
  {
   "cell_type": "code",
   "execution_count": 169,
   "metadata": {},
   "outputs": [
    {
     "data": {
      "text/html": [
       "<div>\n",
       "<style scoped>\n",
       "    .dataframe tbody tr th:only-of-type {\n",
       "        vertical-align: middle;\n",
       "    }\n",
       "\n",
       "    .dataframe tbody tr th {\n",
       "        vertical-align: top;\n",
       "    }\n",
       "\n",
       "    .dataframe thead th {\n",
       "        text-align: right;\n",
       "    }\n",
       "</style>\n",
       "<table border=\"1\" class=\"dataframe\">\n",
       "  <thead>\n",
       "    <tr style=\"text-align: right;\">\n",
       "      <th></th>\n",
       "      <th>zipcode</th>\n",
       "      <th>price</th>\n",
       "      <th>household_mean_income</th>\n",
       "      <th>families_mean_income</th>\n",
       "      <th>nonfamily_mean_income</th>\n",
       "    </tr>\n",
       "  </thead>\n",
       "  <tbody>\n",
       "    <tr>\n",
       "      <th>0</th>\n",
       "      <td>98002</td>\n",
       "      <td>235085.47</td>\n",
       "      <td>64742</td>\n",
       "      <td>73500</td>\n",
       "      <td>46349</td>\n",
       "    </tr>\n",
       "    <tr>\n",
       "      <th>1</th>\n",
       "      <td>98168</td>\n",
       "      <td>241003.91</td>\n",
       "      <td>72280</td>\n",
       "      <td>78402</td>\n",
       "      <td>54437</td>\n",
       "    </tr>\n",
       "    <tr>\n",
       "      <th>2</th>\n",
       "      <td>98032</td>\n",
       "      <td>253325.25</td>\n",
       "      <td>75984</td>\n",
       "      <td>86230</td>\n",
       "      <td>56199</td>\n",
       "    </tr>\n",
       "    <tr>\n",
       "      <th>3</th>\n",
       "      <td>98001</td>\n",
       "      <td>282335.56</td>\n",
       "      <td>97847</td>\n",
       "      <td>102416</td>\n",
       "      <td>77212</td>\n",
       "    </tr>\n",
       "    <tr>\n",
       "      <th>4</th>\n",
       "      <td>98148</td>\n",
       "      <td>285211.02</td>\n",
       "      <td>73879</td>\n",
       "      <td>86196</td>\n",
       "      <td>49198</td>\n",
       "    </tr>\n",
       "    <tr>\n",
       "      <th>...</th>\n",
       "      <td>...</td>\n",
       "      <td>...</td>\n",
       "      <td>...</td>\n",
       "      <td>...</td>\n",
       "      <td>...</td>\n",
       "    </tr>\n",
       "    <tr>\n",
       "      <th>65</th>\n",
       "      <td>98109</td>\n",
       "      <td>878483.08</td>\n",
       "      <td>129064</td>\n",
       "      <td>189144</td>\n",
       "      <td>99771</td>\n",
       "    </tr>\n",
       "    <tr>\n",
       "      <th>66</th>\n",
       "      <td>98112</td>\n",
       "      <td>1095133.22</td>\n",
       "      <td>199439</td>\n",
       "      <td>270168</td>\n",
       "      <td>129055</td>\n",
       "    </tr>\n",
       "    <tr>\n",
       "      <th>67</th>\n",
       "      <td>98040</td>\n",
       "      <td>1176956.41</td>\n",
       "      <td>219325</td>\n",
       "      <td>264112</td>\n",
       "      <td>107089</td>\n",
       "    </tr>\n",
       "    <tr>\n",
       "      <th>68</th>\n",
       "      <td>98004</td>\n",
       "      <td>1316314.16</td>\n",
       "      <td>185707</td>\n",
       "      <td>232636</td>\n",
       "      <td>121828</td>\n",
       "    </tr>\n",
       "    <tr>\n",
       "      <th>69</th>\n",
       "      <td>98039</td>\n",
       "      <td>1935103.02</td>\n",
       "      <td>308709</td>\n",
       "      <td>349418</td>\n",
       "      <td>130238</td>\n",
       "    </tr>\n",
       "  </tbody>\n",
       "</table>\n",
       "<p>70 rows × 5 columns</p>\n",
       "</div>"
      ],
      "text/plain": [
       "    zipcode      price household_mean_income families_mean_income  \\\n",
       "0     98002  235085.47                 64742                73500   \n",
       "1     98168  241003.91                 72280                78402   \n",
       "2     98032  253325.25                 75984                86230   \n",
       "3     98001  282335.56                 97847               102416   \n",
       "4     98148  285211.02                 73879                86196   \n",
       "..      ...        ...                   ...                  ...   \n",
       "65    98109  878483.08                129064               189144   \n",
       "66    98112 1095133.22                199439               270168   \n",
       "67    98040 1176956.41                219325               264112   \n",
       "68    98004 1316314.16                185707               232636   \n",
       "69    98039 1935103.02                308709               349418   \n",
       "\n",
       "   nonfamily_mean_income  \n",
       "0                  46349  \n",
       "1                  54437  \n",
       "2                  56199  \n",
       "3                  77212  \n",
       "4                  49198  \n",
       "..                   ...  \n",
       "65                 99771  \n",
       "66                129055  \n",
       "67                107089  \n",
       "68                121828  \n",
       "69                130238  \n",
       "\n",
       "[70 rows x 5 columns]"
      ]
     },
     "execution_count": 169,
     "metadata": {},
     "output_type": "execute_result"
    }
   ],
   "source": [
    "census_df = pd.read_csv('census_zip_income/ACSST5Y2018.S1901-Data.csv')\n",
    "\n",
    "census_df = census_df.rename(columns={\n",
    "    'Geographic Area Name': 'zipcode',\n",
    "    'Estimate!!Households!!Mean income (dollars)': 'household_mean_income',\n",
    "    'Estimate!!Families!!Mean income (dollars)': 'families_mean_income',\n",
    "    'Estimate!!Nonfamily households!!Mean income (dollars)': 'nonfamily_mean_income',\n",
    "})\n",
    "\n",
    "income_cols = ['household_mean_income', 'families_mean_income', 'nonfamily_mean_income']\n",
    "\n",
    "# Simplify dataset to just these columns\n",
    "census_df = census_df[income_cols + ['zipcode']]\n",
    "\n",
    "# Strip off ZCTA5 (Zip code tabulationi area) prefix\n",
    "census_df['zipcode'] = census_df['zipcode'].str[6:].astype(int)\n",
    "\n",
    "# Clean income cols and drop invalid values\n",
    "census_df[income_cols] = census_df[income_cols].replace(['-', 'N'], np.nan)\n",
    "# census_df.dropna(subset=income_cols, inplace=True)\n",
    "\n",
    "# Scale income cols to be in dollars\n",
    "census_df[income_cols] = census_df[income_cols].map(lambda x: x)\n",
    "\n",
    "# Join the census dataset to the our zip codes\n",
    "df_lowest_zips = pd.merge(df_lowest_zips, census_df, on='zipcode', how='left')\n",
    "\n",
    "df_lowest_zips"
   ]
  },
  {
   "cell_type": "markdown",
   "metadata": {},
   "source": [
    "### Graph median house price by income"
   ]
  },
  {
   "cell_type": "code",
   "execution_count": 172,
   "metadata": {},
   "outputs": [
    {
     "data": {
      "application/vnd.plotly.v1+json": {
       "config": {
        "plotlyServerURL": "https://plot.ly"
       },
       "data": [
        {
         "hovertemplate": "income_type=household_mean_income<br>price=%{x}<br>income=%{y}<extra></extra>",
         "legendgroup": "household_mean_income",
         "line": {
          "color": "#636efa",
          "dash": "solid"
         },
         "marker": {
          "symbol": "circle"
         },
         "mode": "lines",
         "name": "household_mean_income",
         "orientation": "h",
         "showlegend": true,
         "type": "scatter",
         "x": [
          235085.4705882353,
          241003.91235059762,
          253325.25,
          282335.55654761905,
          285211.02040816325,
          286048.05555555556,
          287971.42795698927,
          293317.7393162393,
          296484.40625,
          302157.86486486485,
          302658.9411764706,
          303375.7862903226,
          311145.40248962655,
          312046.9446640316,
          312526.23474178405,
          321971.1339869281,
          332313.8246153846,
          350382.1038647343,
          356162.78285714285,
          356885.4925925926,
          367155.24727272725,
          386346.8039647577,
          415319.2595744681,
          417227.95781637717,
          419325.18944099377,
          423963.2112299465,
          426492.2458100559,
          431833.86432160804,
          432723.8777777778,
          451176.0701754386,
          456364.02521008404,
          463319.0740740741,
          470063.85789473687,
          484194.4913793103,
          490100.7597765363,
          492028.5067264574,
          517811.0421686747,
          532883.243902439,
          550508.8612244898,
          567887.7928286853,
          568559.8717948718,
          573734.5880503145,
          573787.1795918368,
          578983.0537428024,
          582589.1030195382,
          611196.2913385826,
          615265.8855218855,
          618262.1113207547,
          620358.6113989637,
          623072.3246753247,
          636686.1240310078,
          647767.5485074627,
          651104.643678161,
          675331.4,
          681230.0054054054,
          681641.6034482758,
          685590.2380952381,
          782575.7542662116,
          791116.2133995037,
          793867.7121661721,
          802868.8675496689,
          835751.7142857143,
          847201.5476190476,
          847226.0458715596,
          864388.5488069415,
          878483.0808080808,
          1095133.2248995984,
          1176956.4126984128,
          1316314.1614035089
         ],
         "xaxis": "x",
         "y": [
          "64742",
          "72280",
          "75984",
          "97847",
          "73879",
          "83065",
          "93746",
          "75669",
          "74597",
          "84615",
          "90093",
          "85731",
          "94493",
          "118683",
          "89064",
          "79366",
          "104204",
          "105075",
          "78996",
          "94109",
          "120109",
          "83087",
          "98072",
          "103799",
          "105735",
          "114096",
          "146630",
          "132206",
          "121655",
          "132662",
          "109375",
          "126364",
          "88319",
          "114474",
          "111105",
          "131643",
          "122505",
          "158506",
          "131546",
          "145416",
          "150822",
          "113794",
          "127197",
          "137788",
          "124504",
          "116530",
          "144747",
          "140105",
          "136324",
          "129880",
          "108409",
          "152306",
          "142732",
          "176364",
          "206687",
          "202909",
          "145796",
          "151755",
          "167366",
          "204042",
          "157805",
          "123178",
          "139617",
          "112253",
          "180163",
          "129064",
          "199439",
          "219325",
          "185707"
         ],
         "yaxis": "y"
        },
        {
         "hovertemplate": "income_type=families_mean_income<br>price=%{x}<br>income=%{y}<extra></extra>",
         "legendgroup": "families_mean_income",
         "line": {
          "color": "#EF553B",
          "dash": "solid"
         },
         "marker": {
          "symbol": "circle"
         },
         "mode": "lines",
         "name": "families_mean_income",
         "orientation": "h",
         "showlegend": true,
         "type": "scatter",
         "x": [
          235085.4705882353,
          241003.91235059762,
          253325.25,
          282335.55654761905,
          285211.02040816325,
          286048.05555555556,
          287971.42795698927,
          293317.7393162393,
          296484.40625,
          302157.86486486485,
          302658.9411764706,
          303375.7862903226,
          311145.40248962655,
          312046.9446640316,
          312526.23474178405,
          321971.1339869281,
          332313.8246153846,
          350382.1038647343,
          356162.78285714285,
          356885.4925925926,
          367155.24727272725,
          386346.8039647577,
          415319.2595744681,
          417227.95781637717,
          419325.18944099377,
          423963.2112299465,
          426492.2458100559,
          431833.86432160804,
          432723.8777777778,
          451176.0701754386,
          456364.02521008404,
          463319.0740740741,
          470063.85789473687,
          484194.4913793103,
          490100.7597765363,
          492028.5067264574,
          517811.0421686747,
          532883.243902439,
          550508.8612244898,
          567887.7928286853,
          568559.8717948718,
          573734.5880503145,
          573787.1795918368,
          578983.0537428024,
          582589.1030195382,
          611196.2913385826,
          615265.8855218855,
          618262.1113207547,
          620358.6113989637,
          623072.3246753247,
          636686.1240310078,
          647767.5485074627,
          651104.643678161,
          675331.4,
          681230.0054054054,
          681641.6034482758,
          685590.2380952381,
          782575.7542662116,
          791116.2133995037,
          793867.7121661721,
          802868.8675496689,
          835751.7142857143,
          847201.5476190476,
          847226.0458715596,
          864388.5488069415,
          878483.0808080808,
          1095133.2248995984,
          1176956.4126984128,
          1316314.1614035089
         ],
         "xaxis": "x",
         "y": [
          "73500",
          "78402",
          "86230",
          "102416",
          "86196",
          "97616",
          "101912",
          "78866",
          "82419",
          "94569",
          "96223",
          "93619",
          "101112",
          "124985",
          "104139",
          "89275",
          "113339",
          "116281",
          "86802",
          "104295",
          "130703",
          "106682",
          "110621",
          "120913",
          "122467",
          "128407",
          "168286",
          "148540",
          "140026",
          "150937",
          "132826",
          "142335",
          "111449",
          "141898",
          "129528",
          "144713",
          "143163",
          "167745",
          "159935",
          "176089",
          "162536",
          "141192",
          "179891",
          "165139",
          "159722",
          "128684",
          "168650",
          "181089",
          "158089",
          "167009",
          "152632",
          "174319",
          "160085",
          "202251",
          "223684",
          "213950",
          "170342",
          "193364",
          "209051",
          "212574",
          "193473",
          "191189",
          "220982",
          "212839",
          "201436",
          "189144",
          "270168",
          "264112",
          "232636"
         ],
         "yaxis": "y"
        },
        {
         "hovertemplate": "income_type=nonfamily_mean_income<br>price=%{x}<br>income=%{y}<extra></extra>",
         "legendgroup": "nonfamily_mean_income",
         "line": {
          "color": "#00cc96",
          "dash": "solid"
         },
         "marker": {
          "symbol": "circle"
         },
         "mode": "lines",
         "name": "nonfamily_mean_income",
         "orientation": "h",
         "showlegend": true,
         "type": "scatter",
         "x": [
          235085.4705882353,
          241003.91235059762,
          253325.25,
          282335.55654761905,
          285211.02040816325,
          286048.05555555556,
          287971.42795698927,
          293317.7393162393,
          296484.40625,
          302157.86486486485,
          302658.9411764706,
          303375.7862903226,
          311145.40248962655,
          312046.9446640316,
          312526.23474178405,
          321971.1339869281,
          332313.8246153846,
          350382.1038647343,
          356162.78285714285,
          356885.4925925926,
          367155.24727272725,
          386346.8039647577,
          415319.2595744681,
          417227.95781637717,
          419325.18944099377,
          423963.2112299465,
          426492.2458100559,
          431833.86432160804,
          432723.8777777778,
          451176.0701754386,
          456364.02521008404,
          463319.0740740741,
          470063.85789473687,
          484194.4913793103,
          490100.7597765363,
          492028.5067264574,
          517811.0421686747,
          532883.243902439,
          550508.8612244898,
          567887.7928286853,
          568559.8717948718,
          573734.5880503145,
          573787.1795918368,
          578983.0537428024,
          582589.1030195382,
          611196.2913385826,
          615265.8855218855,
          618262.1113207547,
          620358.6113989637,
          623072.3246753247,
          636686.1240310078,
          647767.5485074627,
          651104.643678161,
          675331.4,
          681230.0054054054,
          681641.6034482758,
          685590.2380952381,
          782575.7542662116,
          791116.2133995037,
          793867.7121661721,
          802868.8675496689,
          835751.7142857143,
          847201.5476190476,
          847226.0458715596,
          864388.5488069415,
          878483.0808080808,
          1095133.2248995984,
          1176956.4126984128,
          1316314.1614035089
         ],
         "xaxis": "x",
         "y": [
          "46349",
          "54437",
          "56199",
          "77212",
          "49198",
          "52990",
          "64446",
          "60565",
          "53800",
          "62261",
          "60122",
          "66398",
          "73355",
          "87417",
          "53645",
          "62961",
          "70901",
          "67171",
          "58500",
          "62489",
          "72319",
          "58050",
          "70606",
          "65568",
          "79042",
          "75040",
          "74529",
          "74504",
          "50757",
          "74615",
          "66269",
          "88177",
          "61048",
          "71996",
          "71811",
          "83799",
          "82511",
          "88116",
          "85051",
          "74928",
          "67965",
          "81890",
          "93531",
          "87686",
          "96419",
          "87776",
          "85125",
          "84568",
          "81442",
          "85393",
          "84606",
          "102192",
          "87634",
          "74381",
          "70571",
          "116971",
          "89880",
          "88449",
          "93599",
          "100273",
          "90986",
          "97640",
          "80777",
          "52985",
          "95894",
          "99771",
          "129055",
          "107089",
          "121828"
         ],
         "yaxis": "y"
        }
       ],
       "layout": {
        "legend": {
         "title": {
          "text": "income_type"
         },
         "tracegroupgap": 0
        },
        "template": {
         "data": {
          "bar": [
           {
            "error_x": {
             "color": "#2a3f5f"
            },
            "error_y": {
             "color": "#2a3f5f"
            },
            "marker": {
             "line": {
              "color": "#E5ECF6",
              "width": 0.5
             },
             "pattern": {
              "fillmode": "overlay",
              "size": 10,
              "solidity": 0.2
             }
            },
            "type": "bar"
           }
          ],
          "barpolar": [
           {
            "marker": {
             "line": {
              "color": "#E5ECF6",
              "width": 0.5
             },
             "pattern": {
              "fillmode": "overlay",
              "size": 10,
              "solidity": 0.2
             }
            },
            "type": "barpolar"
           }
          ],
          "carpet": [
           {
            "aaxis": {
             "endlinecolor": "#2a3f5f",
             "gridcolor": "white",
             "linecolor": "white",
             "minorgridcolor": "white",
             "startlinecolor": "#2a3f5f"
            },
            "baxis": {
             "endlinecolor": "#2a3f5f",
             "gridcolor": "white",
             "linecolor": "white",
             "minorgridcolor": "white",
             "startlinecolor": "#2a3f5f"
            },
            "type": "carpet"
           }
          ],
          "choropleth": [
           {
            "colorbar": {
             "outlinewidth": 0,
             "ticks": ""
            },
            "type": "choropleth"
           }
          ],
          "contour": [
           {
            "colorbar": {
             "outlinewidth": 0,
             "ticks": ""
            },
            "colorscale": [
             [
              0,
              "#0d0887"
             ],
             [
              0.1111111111111111,
              "#46039f"
             ],
             [
              0.2222222222222222,
              "#7201a8"
             ],
             [
              0.3333333333333333,
              "#9c179e"
             ],
             [
              0.4444444444444444,
              "#bd3786"
             ],
             [
              0.5555555555555556,
              "#d8576b"
             ],
             [
              0.6666666666666666,
              "#ed7953"
             ],
             [
              0.7777777777777778,
              "#fb9f3a"
             ],
             [
              0.8888888888888888,
              "#fdca26"
             ],
             [
              1,
              "#f0f921"
             ]
            ],
            "type": "contour"
           }
          ],
          "contourcarpet": [
           {
            "colorbar": {
             "outlinewidth": 0,
             "ticks": ""
            },
            "type": "contourcarpet"
           }
          ],
          "heatmap": [
           {
            "colorbar": {
             "outlinewidth": 0,
             "ticks": ""
            },
            "colorscale": [
             [
              0,
              "#0d0887"
             ],
             [
              0.1111111111111111,
              "#46039f"
             ],
             [
              0.2222222222222222,
              "#7201a8"
             ],
             [
              0.3333333333333333,
              "#9c179e"
             ],
             [
              0.4444444444444444,
              "#bd3786"
             ],
             [
              0.5555555555555556,
              "#d8576b"
             ],
             [
              0.6666666666666666,
              "#ed7953"
             ],
             [
              0.7777777777777778,
              "#fb9f3a"
             ],
             [
              0.8888888888888888,
              "#fdca26"
             ],
             [
              1,
              "#f0f921"
             ]
            ],
            "type": "heatmap"
           }
          ],
          "heatmapgl": [
           {
            "colorbar": {
             "outlinewidth": 0,
             "ticks": ""
            },
            "colorscale": [
             [
              0,
              "#0d0887"
             ],
             [
              0.1111111111111111,
              "#46039f"
             ],
             [
              0.2222222222222222,
              "#7201a8"
             ],
             [
              0.3333333333333333,
              "#9c179e"
             ],
             [
              0.4444444444444444,
              "#bd3786"
             ],
             [
              0.5555555555555556,
              "#d8576b"
             ],
             [
              0.6666666666666666,
              "#ed7953"
             ],
             [
              0.7777777777777778,
              "#fb9f3a"
             ],
             [
              0.8888888888888888,
              "#fdca26"
             ],
             [
              1,
              "#f0f921"
             ]
            ],
            "type": "heatmapgl"
           }
          ],
          "histogram": [
           {
            "marker": {
             "pattern": {
              "fillmode": "overlay",
              "size": 10,
              "solidity": 0.2
             }
            },
            "type": "histogram"
           }
          ],
          "histogram2d": [
           {
            "colorbar": {
             "outlinewidth": 0,
             "ticks": ""
            },
            "colorscale": [
             [
              0,
              "#0d0887"
             ],
             [
              0.1111111111111111,
              "#46039f"
             ],
             [
              0.2222222222222222,
              "#7201a8"
             ],
             [
              0.3333333333333333,
              "#9c179e"
             ],
             [
              0.4444444444444444,
              "#bd3786"
             ],
             [
              0.5555555555555556,
              "#d8576b"
             ],
             [
              0.6666666666666666,
              "#ed7953"
             ],
             [
              0.7777777777777778,
              "#fb9f3a"
             ],
             [
              0.8888888888888888,
              "#fdca26"
             ],
             [
              1,
              "#f0f921"
             ]
            ],
            "type": "histogram2d"
           }
          ],
          "histogram2dcontour": [
           {
            "colorbar": {
             "outlinewidth": 0,
             "ticks": ""
            },
            "colorscale": [
             [
              0,
              "#0d0887"
             ],
             [
              0.1111111111111111,
              "#46039f"
             ],
             [
              0.2222222222222222,
              "#7201a8"
             ],
             [
              0.3333333333333333,
              "#9c179e"
             ],
             [
              0.4444444444444444,
              "#bd3786"
             ],
             [
              0.5555555555555556,
              "#d8576b"
             ],
             [
              0.6666666666666666,
              "#ed7953"
             ],
             [
              0.7777777777777778,
              "#fb9f3a"
             ],
             [
              0.8888888888888888,
              "#fdca26"
             ],
             [
              1,
              "#f0f921"
             ]
            ],
            "type": "histogram2dcontour"
           }
          ],
          "mesh3d": [
           {
            "colorbar": {
             "outlinewidth": 0,
             "ticks": ""
            },
            "type": "mesh3d"
           }
          ],
          "parcoords": [
           {
            "line": {
             "colorbar": {
              "outlinewidth": 0,
              "ticks": ""
             }
            },
            "type": "parcoords"
           }
          ],
          "pie": [
           {
            "automargin": true,
            "type": "pie"
           }
          ],
          "scatter": [
           {
            "fillpattern": {
             "fillmode": "overlay",
             "size": 10,
             "solidity": 0.2
            },
            "type": "scatter"
           }
          ],
          "scatter3d": [
           {
            "line": {
             "colorbar": {
              "outlinewidth": 0,
              "ticks": ""
             }
            },
            "marker": {
             "colorbar": {
              "outlinewidth": 0,
              "ticks": ""
             }
            },
            "type": "scatter3d"
           }
          ],
          "scattercarpet": [
           {
            "marker": {
             "colorbar": {
              "outlinewidth": 0,
              "ticks": ""
             }
            },
            "type": "scattercarpet"
           }
          ],
          "scattergeo": [
           {
            "marker": {
             "colorbar": {
              "outlinewidth": 0,
              "ticks": ""
             }
            },
            "type": "scattergeo"
           }
          ],
          "scattergl": [
           {
            "marker": {
             "colorbar": {
              "outlinewidth": 0,
              "ticks": ""
             }
            },
            "type": "scattergl"
           }
          ],
          "scattermapbox": [
           {
            "marker": {
             "colorbar": {
              "outlinewidth": 0,
              "ticks": ""
             }
            },
            "type": "scattermapbox"
           }
          ],
          "scatterpolar": [
           {
            "marker": {
             "colorbar": {
              "outlinewidth": 0,
              "ticks": ""
             }
            },
            "type": "scatterpolar"
           }
          ],
          "scatterpolargl": [
           {
            "marker": {
             "colorbar": {
              "outlinewidth": 0,
              "ticks": ""
             }
            },
            "type": "scatterpolargl"
           }
          ],
          "scatterternary": [
           {
            "marker": {
             "colorbar": {
              "outlinewidth": 0,
              "ticks": ""
             }
            },
            "type": "scatterternary"
           }
          ],
          "surface": [
           {
            "colorbar": {
             "outlinewidth": 0,
             "ticks": ""
            },
            "colorscale": [
             [
              0,
              "#0d0887"
             ],
             [
              0.1111111111111111,
              "#46039f"
             ],
             [
              0.2222222222222222,
              "#7201a8"
             ],
             [
              0.3333333333333333,
              "#9c179e"
             ],
             [
              0.4444444444444444,
              "#bd3786"
             ],
             [
              0.5555555555555556,
              "#d8576b"
             ],
             [
              0.6666666666666666,
              "#ed7953"
             ],
             [
              0.7777777777777778,
              "#fb9f3a"
             ],
             [
              0.8888888888888888,
              "#fdca26"
             ],
             [
              1,
              "#f0f921"
             ]
            ],
            "type": "surface"
           }
          ],
          "table": [
           {
            "cells": {
             "fill": {
              "color": "#EBF0F8"
             },
             "line": {
              "color": "white"
             }
            },
            "header": {
             "fill": {
              "color": "#C8D4E3"
             },
             "line": {
              "color": "white"
             }
            },
            "type": "table"
           }
          ]
         },
         "layout": {
          "annotationdefaults": {
           "arrowcolor": "#2a3f5f",
           "arrowhead": 0,
           "arrowwidth": 1
          },
          "autotypenumbers": "strict",
          "coloraxis": {
           "colorbar": {
            "outlinewidth": 0,
            "ticks": ""
           }
          },
          "colorscale": {
           "diverging": [
            [
             0,
             "#8e0152"
            ],
            [
             0.1,
             "#c51b7d"
            ],
            [
             0.2,
             "#de77ae"
            ],
            [
             0.3,
             "#f1b6da"
            ],
            [
             0.4,
             "#fde0ef"
            ],
            [
             0.5,
             "#f7f7f7"
            ],
            [
             0.6,
             "#e6f5d0"
            ],
            [
             0.7,
             "#b8e186"
            ],
            [
             0.8,
             "#7fbc41"
            ],
            [
             0.9,
             "#4d9221"
            ],
            [
             1,
             "#276419"
            ]
           ],
           "sequential": [
            [
             0,
             "#0d0887"
            ],
            [
             0.1111111111111111,
             "#46039f"
            ],
            [
             0.2222222222222222,
             "#7201a8"
            ],
            [
             0.3333333333333333,
             "#9c179e"
            ],
            [
             0.4444444444444444,
             "#bd3786"
            ],
            [
             0.5555555555555556,
             "#d8576b"
            ],
            [
             0.6666666666666666,
             "#ed7953"
            ],
            [
             0.7777777777777778,
             "#fb9f3a"
            ],
            [
             0.8888888888888888,
             "#fdca26"
            ],
            [
             1,
             "#f0f921"
            ]
           ],
           "sequentialminus": [
            [
             0,
             "#0d0887"
            ],
            [
             0.1111111111111111,
             "#46039f"
            ],
            [
             0.2222222222222222,
             "#7201a8"
            ],
            [
             0.3333333333333333,
             "#9c179e"
            ],
            [
             0.4444444444444444,
             "#bd3786"
            ],
            [
             0.5555555555555556,
             "#d8576b"
            ],
            [
             0.6666666666666666,
             "#ed7953"
            ],
            [
             0.7777777777777778,
             "#fb9f3a"
            ],
            [
             0.8888888888888888,
             "#fdca26"
            ],
            [
             1,
             "#f0f921"
            ]
           ]
          },
          "colorway": [
           "#636efa",
           "#EF553B",
           "#00cc96",
           "#ab63fa",
           "#FFA15A",
           "#19d3f3",
           "#FF6692",
           "#B6E880",
           "#FF97FF",
           "#FECB52"
          ],
          "font": {
           "color": "#2a3f5f"
          },
          "geo": {
           "bgcolor": "white",
           "lakecolor": "white",
           "landcolor": "#E5ECF6",
           "showlakes": true,
           "showland": true,
           "subunitcolor": "white"
          },
          "hoverlabel": {
           "align": "left"
          },
          "hovermode": "closest",
          "mapbox": {
           "style": "light"
          },
          "paper_bgcolor": "white",
          "plot_bgcolor": "#E5ECF6",
          "polar": {
           "angularaxis": {
            "gridcolor": "white",
            "linecolor": "white",
            "ticks": ""
           },
           "bgcolor": "#E5ECF6",
           "radialaxis": {
            "gridcolor": "white",
            "linecolor": "white",
            "ticks": ""
           }
          },
          "scene": {
           "xaxis": {
            "backgroundcolor": "#E5ECF6",
            "gridcolor": "white",
            "gridwidth": 2,
            "linecolor": "white",
            "showbackground": true,
            "ticks": "",
            "zerolinecolor": "white"
           },
           "yaxis": {
            "backgroundcolor": "#E5ECF6",
            "gridcolor": "white",
            "gridwidth": 2,
            "linecolor": "white",
            "showbackground": true,
            "ticks": "",
            "zerolinecolor": "white"
           },
           "zaxis": {
            "backgroundcolor": "#E5ECF6",
            "gridcolor": "white",
            "gridwidth": 2,
            "linecolor": "white",
            "showbackground": true,
            "ticks": "",
            "zerolinecolor": "white"
           }
          },
          "shapedefaults": {
           "line": {
            "color": "#2a3f5f"
           }
          },
          "ternary": {
           "aaxis": {
            "gridcolor": "white",
            "linecolor": "white",
            "ticks": ""
           },
           "baxis": {
            "gridcolor": "white",
            "linecolor": "white",
            "ticks": ""
           },
           "bgcolor": "#E5ECF6",
           "caxis": {
            "gridcolor": "white",
            "linecolor": "white",
            "ticks": ""
           }
          },
          "title": {
           "x": 0.05
          },
          "xaxis": {
           "automargin": true,
           "gridcolor": "white",
           "linecolor": "white",
           "ticks": "",
           "title": {
            "standoff": 15
           },
           "zerolinecolor": "white",
           "zerolinewidth": 2
          },
          "yaxis": {
           "automargin": true,
           "gridcolor": "white",
           "linecolor": "white",
           "ticks": "",
           "title": {
            "standoff": 15
           },
           "zerolinecolor": "white",
           "zerolinewidth": 2
          }
         }
        },
        "title": {
         "text": "Home Price vs Mean Income by Zip Code"
        },
        "xaxis": {
         "anchor": "y",
         "domain": [
          0,
          1
         ],
         "title": {
          "text": "price"
         }
        },
        "yaxis": {
         "anchor": "x",
         "domain": [
          0,
          1
         ],
         "title": {
          "text": "income"
         }
        }
       }
      }
     },
     "metadata": {},
     "output_type": "display_data"
    }
   ],
   "source": [
    "# Melt the dataset income columns so we can plot them as separate lines in the plot\n",
    "df_melted = df_lowest_zips.melt(id_vars=['price'], value_vars=income_cols, var_name='income_type', value_name='income')\n",
    "\n",
    "# Data isn't really interesting to graph above this value\n",
    "df_melted = df_melted[df_melted['price'] < 1500000]\n",
    "\n",
    "# Create the line plot\n",
    "fig = px.line(df_melted, x='price', y='income', color='income_type', title='Home Price vs Mean Income by Zip Code')\n",
    "\n",
    "fig.show()"
   ]
  }
 ],
 "metadata": {
  "kernelspec": {
   "display_name": "Python 3",
   "language": "python",
   "name": "python3"
  },
  "language_info": {
   "codemirror_mode": {
    "name": "ipython",
    "version": 3
   },
   "file_extension": ".py",
   "mimetype": "text/x-python",
   "name": "python",
   "nbconvert_exporter": "python",
   "pygments_lexer": "ipython3",
   "version": "3.12.1"
  }
 },
 "nbformat": 4,
 "nbformat_minor": 2
}
